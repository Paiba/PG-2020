{
 "cells": [
  {
   "cell_type": "markdown",
   "metadata": {},
   "source": [
    "# Visualização do código"
   ]
  },
  {
   "cell_type": "code",
   "execution_count": 7,
   "metadata": {},
   "outputs": [],
   "source": [
    "\"\"\"\n",
    "Pedro Paiva Ladeira\n",
    "\n",
    "Codigo do painel de controle feito com a finalidade de projeto de graduacao pela Universidade Federal do Espírito Santo\n",
    "\n",
    "\"\"\"\n",
    "# Imports\n",
    "import pandas as pd\n",
    "import tkinter as tk\n",
    "import bokeh as bk\n",
    "import matplotlib as mpl\n",
    "\n",
    "from tkinter import filedialog\n",
    "# from bokeh import figure, output_file, show\n"
   ]
  },
  {
   "cell_type": "code",
   "execution_count": 8,
   "metadata": {},
   "outputs": [],
   "source": [
    "# Leitura bruta do arquivo CSV\n",
    "root = tk.Tk()\n",
    "root.withdraw()\n",
    "\n",
    "file_path = filedialog.askopenfilename()\n",
    "\n",
    "tabela_bruta = pd.read_csv(file_path)\n"
   ]
  },
  {
   "cell_type": "code",
   "execution_count": 9,
   "metadata": {},
   "outputs": [
    {
     "name": "stdout",
     "output_type": "stream",
     "text": [
      "     MEDIA_FINAL  ID_CURSO_ALUNO         COD_CURSO         NOME_CURSO  \\\n",
      "0       6.882338          280194  info_COD_CURSO_1  info_NOME_CURSO_1   \n",
      "1       8.910448          280195  info_COD_CURSO_1  info_NOME_CURSO_1   \n",
      "2       8.191176          280196  info_COD_CURSO_1  info_NOME_CURSO_1   \n",
      "3       9.116071          280197  info_COD_CURSO_1  info_NOME_CURSO_1   \n",
      "4       6.152000          280198  info_COD_CURSO_1  info_NOME_CURSO_1   \n",
      "..           ...             ...               ...                ...   \n",
      "472     9.387500          347025  info_COD_CURSO_0  info_NOME_CURSO_0   \n",
      "473     9.113636          347026  info_COD_CURSO_0  info_NOME_CURSO_0   \n",
      "474     8.966667          347027  info_COD_CURSO_0  info_NOME_CURSO_0   \n",
      "475     9.275000          347028  info_COD_CURSO_0  info_NOME_CURSO_0   \n",
      "476     9.523000          347029  info_COD_CURSO_0  info_NOME_CURSO_0   \n",
      "\n",
      "     ANO_INGRESSO    FORMA_INGRESSO  \\\n",
      "0            2008        Vestibular   \n",
      "1            2008        Vestibular   \n",
      "2            2008        Vestibular   \n",
      "3            2008        Vestibular   \n",
      "4            2008        Vestibular   \n",
      "..            ...               ...   \n",
      "472          2018  Reopção de Curso   \n",
      "473          2018  Reopção de Curso   \n",
      "474          2018  Reopção de Curso   \n",
      "475          2018  Reopção de Curso   \n",
      "476          2018  Reopção de Curso   \n",
      "\n",
      "                                    FORMA_EVASAO  PERIODO_ALUNO  \\\n",
      "0                                        Formado             13   \n",
      "1                                        Formado             12   \n",
      "2                                        Formado             13   \n",
      "3                                        Formado             11   \n",
      "4    Desligamento: 3 reprovações em 1 disciplina              8   \n",
      "..                                           ...            ...   \n",
      "472                                   Sem evasão              3   \n",
      "473                                   Sem evasão              3   \n",
      "474                                   Sem evasão              3   \n",
      "475                                   Sem evasão              3   \n",
      "476                                   Sem evasão              3   \n",
      "\n",
      "             TIPO_INSTUICAO_SEGUNDO_GRAU         NACIONALIADE  \\\n",
      "0     info_TIPO_INSTUICAO_SEGUNDO_GRAU_0  info_NACIONALIADE_0   \n",
      "1    info_TIPO_INSTUICAO_SEGUNDO_GRAU_-1  info_NACIONALIADE_0   \n",
      "2    info_TIPO_INSTUICAO_SEGUNDO_GRAU_-1  info_NACIONALIADE_0   \n",
      "3     info_TIPO_INSTUICAO_SEGUNDO_GRAU_0  info_NACIONALIADE_0   \n",
      "4     info_TIPO_INSTUICAO_SEGUNDO_GRAU_0  info_NACIONALIADE_0   \n",
      "..                                   ...                  ...   \n",
      "472   info_TIPO_INSTUICAO_SEGUNDO_GRAU_1  info_NACIONALIADE_0   \n",
      "473  info_TIPO_INSTUICAO_SEGUNDO_GRAU_-1  info_NACIONALIADE_0   \n",
      "474   info_TIPO_INSTUICAO_SEGUNDO_GRAU_0  info_NACIONALIADE_0   \n",
      "475  info_TIPO_INSTUICAO_SEGUNDO_GRAU_-1  info_NACIONALIADE_0   \n",
      "476  info_TIPO_INSTUICAO_SEGUNDO_GRAU_-1  info_NACIONALIADE_0   \n",
      "\n",
      "             NATURALIDADE          UF_NATURALIDADE         COTISTA  \\\n",
      "0    info_NATURALIDADE_60   info_UF_NATURALIDADE_2  info_COTISTA_1   \n",
      "1    info_NATURALIDADE_61   info_UF_NATURALIDADE_0  info_COTISTA_1   \n",
      "2    info_NATURALIDADE_62   info_UF_NATURALIDADE_2  info_COTISTA_0   \n",
      "3     info_NATURALIDADE_0   info_UF_NATURALIDADE_0  info_COTISTA_0   \n",
      "4    info_NATURALIDADE_63  info_UF_NATURALIDADE_14  info_COTISTA_1   \n",
      "..                    ...                      ...             ...   \n",
      "472   info_NATURALIDADE_9   info_UF_NATURALIDADE_0  info_COTISTA_0   \n",
      "473  info_NATURALIDADE_59   info_UF_NATURALIDADE_2  info_COTISTA_0   \n",
      "474   info_NATURALIDADE_0   info_UF_NATURALIDADE_0  info_COTISTA_0   \n",
      "475   info_NATURALIDADE_0   info_UF_NATURALIDADE_0  info_COTISTA_0   \n",
      "476  info_NATURALIDADE_16   info_UF_NATURALIDADE_1  info_COTISTA_0   \n",
      "\n",
      "            PLANO_ESTUDO  COD_DISCIPLINA  \n",
      "0    info_PLANO_ESTUDO_0             316  \n",
      "1    info_PLANO_ESTUDO_0             576  \n",
      "2    info_PLANO_ESTUDO_0              75  \n",
      "3    info_PLANO_ESTUDO_0              71  \n",
      "4    info_PLANO_ESTUDO_0              28  \n",
      "..                   ...             ...  \n",
      "472  info_PLANO_ESTUDO_0              23  \n",
      "473  info_PLANO_ESTUDO_0              18  \n",
      "474  info_PLANO_ESTUDO_0              17  \n",
      "475  info_PLANO_ESTUDO_0              18  \n",
      "476  info_PLANO_ESTUDO_0              30  \n",
      "\n",
      "[477 rows x 15 columns]\n"
     ]
    }
   ],
   "source": [
    "# Gráficos e Tabelas Úteis\n",
    "\n",
    "#variável com todas as colunas que se repetem no dado bruto (Faltam as últimas 6 que deram problemas de inconsistencias)\n",
    "colunas_repetidas = ['ID_CURSO_ALUNO','COD_CURSO','NOME_CURSO','ANO_INGRESSO','FORMA_INGRESSO','FORMA_EVASAO','PERIODO_ALUNO','TIPO_INSTUICAO_SEGUNDO_GRAU','NACIONALIADE','NATURALIDADE','UF_NATURALIDADE','COTISTA','PLANO_ESTUDO']\n",
    "\n",
    "#coluna com a quantidade de disciplinas que o aluno fez\n",
    "disciplinas = tabela_bruta.groupby(colunas_repetidas).COD_DISCIPLINA.count().to_frame().reset_index()\n",
    "\n",
    "#coluna com a média não ponderada das notas do aluno\n",
    "media_final = tabela_bruta.groupby(colunas_repetidas).MEDIA_FINAL.mean().to_frame().reset_index()\n",
    "media_final = media_final['MEDIA_FINAL'] # gambiarra...\n",
    "\n",
    "#junção das informações\n",
    "tabela_refinada = pd.concat([media_final, disciplinas], axis=1, sort=False)\n",
    "\n",
    "print(tabela_refinada);"
   ]
  },
  {
   "cell_type": "code",
   "execution_count": 11,
   "metadata": {},
   "outputs": [
    {
     "data": {
      "text/plain": [
       "<matplotlib.axes._subplots.AxesSubplot at 0x7fa09fdff750>"
      ]
     },
     "execution_count": 11,
     "metadata": {},
     "output_type": "execute_result"
    },
    {
     "data": {
      "image/png": "[encoded data removed]",
      "text/plain": [
       "<Figure size 432x288 with 1 Axes>"
      ]
     },
     "metadata": {
      "needs_background": "light"
     },
     "output_type": "display_data"
    }
   ],
   "source": [
    "#### SITUACÃO DOS ALUNOS ######\n",
    "\n",
    "forma_evasao = tabela_refinada['FORMA_EVASAO']\n"
   ]
  },
  {
   "cell_type": "code",
   "execution_count": 12,
   "metadata": {},
   "outputs": [
    {
     "name": "stdout",
     "output_type": "stream",
     "text": [
      "Sem evasão                                     297\n",
      "Formado                                        118\n",
      "Desistência                                     28\n",
      "Desligamento: Resolução 68/2017-CEPE            13\n",
      "Desligamento por Abandono                       12\n",
      "Desligamento: Descumpriu Plano de Estudos        3\n",
      "Reopção de curso                                 3\n",
      "Adaptação Curricular                             1\n",
      "Transferido                                      1\n",
      "Desligamento: 3 reprovações em 1 disciplina      1\n",
      "Name: FORMA_EVASAO, dtype: int64\n"
     ]
    }
   ],
   "source": [
    "print(forma_evasao.value_counts())"
   ]
  },
  {
   "cell_type": "code",
   "execution_count": null,
   "metadata": {},
   "outputs": [],
   "source": []
  }
 ],
 "metadata": {
  "kernelspec": {
   "display_name": "Python 3",
   "language": "python",
   "name": "python3"
  },
  "language_info": {
   "codemirror_mode": {
    "name": "ipython",
    "version": 3
   },
   "file_extension": ".py",
   "mimetype": "text/x-python",
   "name": "python",
   "nbconvert_exporter": "python",
   "pygments_lexer": "ipython3",
   "version": "3.7.4"
  }
 },
 "nbformat": 4,
 "nbformat_minor": 2
}
